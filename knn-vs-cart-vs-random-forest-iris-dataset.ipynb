{
 "cells": [
  {
   "cell_type": "markdown",
   "id": "f383ee46",
   "metadata": {
    "papermill": {
     "duration": 0.005185,
     "end_time": "2022-12-29T11:53:55.687389",
     "exception": false,
     "start_time": "2022-12-29T11:53:55.682204",
     "status": "completed"
    },
    "tags": []
   },
   "source": [
    "# Importing the libraries"
   ]
  },
  {
   "cell_type": "code",
   "execution_count": 1,
   "id": "1c1a41e0",
   "metadata": {
    "execution": {
     "iopub.execute_input": "2022-12-29T11:53:55.698342Z",
     "iopub.status.busy": "2022-12-29T11:53:55.697844Z",
     "iopub.status.idle": "2022-12-29T11:53:55.708518Z",
     "shell.execute_reply": "2022-12-29T11:53:55.707651Z"
    },
    "papermill": {
     "duration": 0.018943,
     "end_time": "2022-12-29T11:53:55.710795",
     "exception": false,
     "start_time": "2022-12-29T11:53:55.691852",
     "status": "completed"
    },
    "tags": []
   },
   "outputs": [],
   "source": [
    "import numpy as np\n",
    "import pandas as pd\n",
    "import matplotlib.pyplot as plt\n",
    "import mpl_toolkits.mplot3d as plt3d"
   ]
  },
  {
   "cell_type": "markdown",
   "id": "5ea4b22b",
   "metadata": {
    "papermill": {
     "duration": 0.004261,
     "end_time": "2022-12-29T11:53:55.719715",
     "exception": false,
     "start_time": "2022-12-29T11:53:55.715454",
     "status": "completed"
    },
    "tags": []
   },
   "source": [
    "# Fetching the dataset"
   ]
  },
  {
   "cell_type": "code",
   "execution_count": 2,
   "id": "24966683",
   "metadata": {
    "execution": {
     "iopub.execute_input": "2022-12-29T11:53:55.730964Z",
     "iopub.status.busy": "2022-12-29T11:53:55.730314Z",
     "iopub.status.idle": "2022-12-29T11:53:56.568430Z",
     "shell.execute_reply": "2022-12-29T11:53:56.567384Z"
    },
    "papermill": {
     "duration": 0.846823,
     "end_time": "2022-12-29T11:53:56.571005",
     "exception": false,
     "start_time": "2022-12-29T11:53:55.724182",
     "status": "completed"
    },
    "tags": []
   },
   "outputs": [],
   "source": [
    "from sklearn.datasets import load_iris\n",
    "\n",
    "iris = load_iris()"
   ]
  },
  {
   "cell_type": "markdown",
   "id": "84730d52",
   "metadata": {
    "papermill": {
     "duration": 0.004393,
     "end_time": "2022-12-29T11:53:56.580169",
     "exception": false,
     "start_time": "2022-12-29T11:53:56.575776",
     "status": "completed"
    },
    "tags": []
   },
   "source": [
    "# Printing the first few rows of the Dataset"
   ]
  },
  {
   "cell_type": "code",
   "execution_count": 3,
   "id": "e069eb5a",
   "metadata": {
    "execution": {
     "iopub.execute_input": "2022-12-29T11:53:56.591249Z",
     "iopub.status.busy": "2022-12-29T11:53:56.590849Z",
     "iopub.status.idle": "2022-12-29T11:53:56.612577Z",
     "shell.execute_reply": "2022-12-29T11:53:56.610772Z"
    },
    "papermill": {
     "duration": 0.029986,
     "end_time": "2022-12-29T11:53:56.614901",
     "exception": false,
     "start_time": "2022-12-29T11:53:56.584915",
     "status": "completed"
    },
    "tags": []
   },
   "outputs": [
    {
     "name": "stdout",
     "output_type": "stream",
     "text": [
      ".. _iris_dataset:\n",
      "\n",
      "Iris plants dataset\n",
      "--------------------\n",
      "\n",
      "**Data Set Characteristics:**\n",
      "\n",
      "    :Number of Instances: 150 (50 in each of three classes)\n",
      "    :Number of Attributes: 4 numeric, predictive attributes and the class\n",
      "    :Attribute Information:\n",
      "        - sepal length in cm\n",
      "        - sepal width in cm\n",
      "        - petal length in cm\n",
      "        - petal width in cm\n",
      "        - class:\n",
      "                - Iris-Setosa\n",
      "                - Iris-Versicolour\n",
      "                - Iris-Virginica\n",
      "                \n",
      "    :Summary Statistics:\n",
      "\n",
      "    ============== ==== ==== ======= ===== ====================\n",
      "                    Min  Max   Mean    SD   Class Correlation\n",
      "    ============== ==== ==== ======= ===== ====================\n",
      "    sepal length:   4.3  7.9   5.84   0.83    0.7826\n",
      "    sepal width:    2.0  4.4   3.05   0.43   -0.4194\n",
      "    petal length:   1.0  6.9   3.76   1.76    0.9490  (high!)\n",
      "    petal width:    0.1  2.5   1.20   0.76    0.9565  (high!)\n",
      "    ============== ==== ==== ======= ===== ====================\n",
      "\n",
      "    :Missing Attribute Values: None\n",
      "    :Class Distribution: 33.3% for each of 3 classes.\n",
      "    :Creator: R.A. Fisher\n",
      "    :Donor: Michael Marshall (MARSHALL%PLU@io.arc.nasa.gov)\n",
      "    :Date: July, 1988\n",
      "\n",
      "The famous Iris database, first used by Sir R.A. Fisher. The dataset is taken\n",
      "from Fisher's paper. Note that it's the same as in R, but not as in the UCI\n",
      "Machine Learning Repository, which has two wrong data points.\n",
      "\n",
      "This is perhaps the best known database to be found in the\n",
      "pattern recognition literature.  Fisher's paper is a classic in the field and\n",
      "is referenced frequently to this day.  (See Duda & Hart, for example.)  The\n",
      "data set contains 3 classes of 50 instances each, where each class refers to a\n",
      "type of iris plant.  One class is linearly separable from the other 2; the\n",
      "latter are NOT linearly separable from each other.\n",
      "\n",
      ".. topic:: References\n",
      "\n",
      "   - Fisher, R.A. \"The use of multiple measurements in taxonomic problems\"\n",
      "     Annual Eugenics, 7, Part II, 179-188 (1936); also in \"Contributions to\n",
      "     Mathematical Statistics\" (John Wiley, NY, 1950).\n",
      "   - Duda, R.O., & Hart, P.E. (1973) Pattern Classification and Scene Analysis.\n",
      "     (Q327.D83) John Wiley & Sons.  ISBN 0-471-22361-1.  See page 218.\n",
      "   - Dasarathy, B.V. (1980) \"Nosing Around the Neighborhood: A New System\n",
      "     Structure and Classification Rule for Recognition in Partially Exposed\n",
      "     Environments\".  IEEE Transactions on Pattern Analysis and Machine\n",
      "     Intelligence, Vol. PAMI-2, No. 1, 67-71.\n",
      "   - Gates, G.W. (1972) \"The Reduced Nearest Neighbor Rule\".  IEEE Transactions\n",
      "     on Information Theory, May 1972, 431-433.\n",
      "   - See also: 1988 MLC Proceedings, 54-64.  Cheeseman et al\"s AUTOCLASS II\n",
      "     conceptual clustering system finds 3 classes in the data.\n",
      "   - Many, many more ...\n",
      "[0 0 0 0 0 0 0 0 0 0 0 0 0 0 0 0 0 0 0 0 0 0 0 0 0 0 0 0 0 0 0 0 0 0 0 0 0\n",
      " 0 0 0 0 0 0 0 0 0 0 0 0 0 1 1 1 1 1 1 1 1 1 1 1 1 1 1 1 1 1 1 1 1 1 1 1 1\n",
      " 1 1 1 1 1 1 1 1 1 1 1 1 1 1 1 1 1 1 1 1 1 1 1 1 1 1 2 2 2 2 2 2 2 2 2 2 2\n",
      " 2 2 2 2 2 2 2 2 2 2 2 2 2 2 2 2 2 2 2 2 2 2 2 2 2 2 2 2 2 2 2 2 2 2 2 2 2\n",
      " 2 2]\n"
     ]
    },
    {
     "data": {
      "text/html": [
       "<div>\n",
       "<style scoped>\n",
       "    .dataframe tbody tr th:only-of-type {\n",
       "        vertical-align: middle;\n",
       "    }\n",
       "\n",
       "    .dataframe tbody tr th {\n",
       "        vertical-align: top;\n",
       "    }\n",
       "\n",
       "    .dataframe thead th {\n",
       "        text-align: right;\n",
       "    }\n",
       "</style>\n",
       "<table border=\"1\" class=\"dataframe\">\n",
       "  <thead>\n",
       "    <tr style=\"text-align: right;\">\n",
       "      <th></th>\n",
       "      <th>0</th>\n",
       "      <th>1</th>\n",
       "      <th>2</th>\n",
       "      <th>3</th>\n",
       "    </tr>\n",
       "  </thead>\n",
       "  <tbody>\n",
       "    <tr>\n",
       "      <th>0</th>\n",
       "      <td>5.1</td>\n",
       "      <td>3.5</td>\n",
       "      <td>1.4</td>\n",
       "      <td>0.2</td>\n",
       "    </tr>\n",
       "    <tr>\n",
       "      <th>1</th>\n",
       "      <td>4.9</td>\n",
       "      <td>3.0</td>\n",
       "      <td>1.4</td>\n",
       "      <td>0.2</td>\n",
       "    </tr>\n",
       "    <tr>\n",
       "      <th>2</th>\n",
       "      <td>4.7</td>\n",
       "      <td>3.2</td>\n",
       "      <td>1.3</td>\n",
       "      <td>0.2</td>\n",
       "    </tr>\n",
       "    <tr>\n",
       "      <th>3</th>\n",
       "      <td>4.6</td>\n",
       "      <td>3.1</td>\n",
       "      <td>1.5</td>\n",
       "      <td>0.2</td>\n",
       "    </tr>\n",
       "    <tr>\n",
       "      <th>4</th>\n",
       "      <td>5.0</td>\n",
       "      <td>3.6</td>\n",
       "      <td>1.4</td>\n",
       "      <td>0.2</td>\n",
       "    </tr>\n",
       "  </tbody>\n",
       "</table>\n",
       "</div>"
      ],
      "text/plain": [
       "     0    1    2    3\n",
       "0  5.1  3.5  1.4  0.2\n",
       "1  4.9  3.0  1.4  0.2\n",
       "2  4.7  3.2  1.3  0.2\n",
       "3  4.6  3.1  1.5  0.2\n",
       "4  5.0  3.6  1.4  0.2"
      ]
     },
     "execution_count": 3,
     "metadata": {},
     "output_type": "execute_result"
    }
   ],
   "source": [
    "print(iris.DESCR)\n",
    "# print(iris.data)\n",
    "print(iris.target)\n",
    "pd.DataFrame(iris.data).head()"
   ]
  },
  {
   "cell_type": "markdown",
   "id": "8b720a75",
   "metadata": {
    "papermill": {
     "duration": 0.0047,
     "end_time": "2022-12-29T11:53:56.625202",
     "exception": false,
     "start_time": "2022-12-29T11:53:56.620502",
     "status": "completed"
    },
    "tags": []
   },
   "source": [
    "# Creating the feature-matrix and dependant vector"
   ]
  },
  {
   "cell_type": "code",
   "execution_count": 4,
   "id": "cc7b16b1",
   "metadata": {
    "execution": {
     "iopub.execute_input": "2022-12-29T11:53:56.636962Z",
     "iopub.status.busy": "2022-12-29T11:53:56.635993Z",
     "iopub.status.idle": "2022-12-29T11:53:56.639999Z",
     "shell.execute_reply": "2022-12-29T11:53:56.639382Z"
    },
    "papermill": {
     "duration": 0.011773,
     "end_time": "2022-12-29T11:53:56.641760",
     "exception": false,
     "start_time": "2022-12-29T11:53:56.629987",
     "status": "completed"
    },
    "tags": []
   },
   "outputs": [],
   "source": [
    "X = iris.data\n",
    "Y = iris.target"
   ]
  },
  {
   "cell_type": "markdown",
   "id": "c678bfd1",
   "metadata": {
    "papermill": {
     "duration": 0.004443,
     "end_time": "2022-12-29T11:53:56.651526",
     "exception": false,
     "start_time": "2022-12-29T11:53:56.647083",
     "status": "completed"
    },
    "tags": []
   },
   "source": [
    "# Creating the Testing and Training sets"
   ]
  },
  {
   "cell_type": "code",
   "execution_count": 5,
   "id": "e5434838",
   "metadata": {
    "execution": {
     "iopub.execute_input": "2022-12-29T11:53:56.663052Z",
     "iopub.status.busy": "2022-12-29T11:53:56.662645Z",
     "iopub.status.idle": "2022-12-29T11:53:56.712356Z",
     "shell.execute_reply": "2022-12-29T11:53:56.711461Z"
    },
    "papermill": {
     "duration": 0.058744,
     "end_time": "2022-12-29T11:53:56.714730",
     "exception": false,
     "start_time": "2022-12-29T11:53:56.655986",
     "status": "completed"
    },
    "tags": []
   },
   "outputs": [],
   "source": [
    "from sklearn.model_selection import train_test_split\n",
    "X_train, X_test, y_train, y_test = train_test_split(X, Y, test_size=0.2, random_state = 5)"
   ]
  },
  {
   "cell_type": "markdown",
   "id": "9611c3d0",
   "metadata": {
    "papermill": {
     "duration": 0.004431,
     "end_time": "2022-12-29T11:53:56.723961",
     "exception": false,
     "start_time": "2022-12-29T11:53:56.719530",
     "status": "completed"
    },
    "tags": []
   },
   "source": [
    "# Creating a KNN Classifier "
   ]
  },
  {
   "cell_type": "code",
   "execution_count": 6,
   "id": "e1f6e1bf",
   "metadata": {
    "execution": {
     "iopub.execute_input": "2022-12-29T11:53:56.735039Z",
     "iopub.status.busy": "2022-12-29T11:53:56.734693Z",
     "iopub.status.idle": "2022-12-29T11:53:56.839385Z",
     "shell.execute_reply": "2022-12-29T11:53:56.838059Z"
    },
    "papermill": {
     "duration": 0.112686,
     "end_time": "2022-12-29T11:53:56.841384",
     "exception": false,
     "start_time": "2022-12-29T11:53:56.728698",
     "status": "completed"
    },
    "tags": []
   },
   "outputs": [
    {
     "name": "stdout",
     "output_type": "stream",
     "text": [
      "0.9666666666666667\n"
     ]
    }
   ],
   "source": [
    "from sklearn.neighbors import KNeighborsClassifier\n",
    "from sklearn.metrics import accuracy_score\n",
    "model = KNeighborsClassifier(n_neighbors=7, algorithm = 'auto')\n",
    "model.fit(X_train, y_train)\n",
    "fx = model.predict(X_test)\n",
    "print(accuracy_score(fx, y_test))"
   ]
  },
  {
   "cell_type": "markdown",
   "id": "357ab401",
   "metadata": {
    "papermill": {
     "duration": 0.004965,
     "end_time": "2022-12-29T11:53:56.851202",
     "exception": false,
     "start_time": "2022-12-29T11:53:56.846237",
     "status": "completed"
    },
    "tags": []
   },
   "source": [
    "# Creating a CART Classifier (Decision Tree Clasifier)\n",
    "Scikit-learn uses an optimized version of the CART algorithm."
   ]
  },
  {
   "cell_type": "code",
   "execution_count": 7,
   "id": "eb202cdf",
   "metadata": {
    "execution": {
     "iopub.execute_input": "2022-12-29T11:53:56.863024Z",
     "iopub.status.busy": "2022-12-29T11:53:56.862606Z",
     "iopub.status.idle": "2022-12-29T11:53:56.891452Z",
     "shell.execute_reply": "2022-12-29T11:53:56.890281Z"
    },
    "papermill": {
     "duration": 0.037366,
     "end_time": "2022-12-29T11:53:56.893428",
     "exception": false,
     "start_time": "2022-12-29T11:53:56.856062",
     "status": "completed"
    },
    "tags": []
   },
   "outputs": [
    {
     "name": "stdout",
     "output_type": "stream",
     "text": [
      "0.9333333333333333\n"
     ]
    }
   ],
   "source": [
    "from sklearn import tree\n",
    "from sklearn.model_selection import cross_val_score\n",
    "CART_tree = tree.DecisionTreeClassifier()\n",
    "r = CART_tree.fit(X_train, y_train)\n",
    "fx = CART_tree.predict(X_test)\n",
    "print(accuracy_score(fx, y_test))"
   ]
  },
  {
   "cell_type": "markdown",
   "id": "837c3567",
   "metadata": {
    "papermill": {
     "duration": 0.005128,
     "end_time": "2022-12-29T11:53:56.903435",
     "exception": false,
     "start_time": "2022-12-29T11:53:56.898307",
     "status": "completed"
    },
    "tags": []
   },
   "source": [
    "# Plotting the decision tree"
   ]
  },
  {
   "cell_type": "code",
   "execution_count": 8,
   "id": "30c4692d",
   "metadata": {
    "execution": {
     "iopub.execute_input": "2022-12-29T11:53:56.916198Z",
     "iopub.status.busy": "2022-12-29T11:53:56.915253Z",
     "iopub.status.idle": "2022-12-29T11:53:57.843492Z",
     "shell.execute_reply": "2022-12-29T11:53:57.842307Z"
    },
    "papermill": {
     "duration": 0.936492,
     "end_time": "2022-12-29T11:53:57.845516",
     "exception": false,
     "start_time": "2022-12-29T11:53:56.909024",
     "status": "completed"
    },
    "tags": []
   },
   "outputs": [
    {
     "data": {
      "image/svg+xml": [
       "<?xml version=\"1.0\" encoding=\"UTF-8\" standalone=\"no\"?>\n",
       "<!DOCTYPE svg PUBLIC \"-//W3C//DTD SVG 1.1//EN\"\n",
       " \"http://www.w3.org/Graphics/SVG/1.1/DTD/svg11.dtd\">\n",
       "<!-- Generated by graphviz version 5.0.0 (20220707.2338)\n",
       " -->\n",
       "<!-- Title: Tree Pages: 1 -->\n",
       "<svg width=\"504pt\" height=\"790pt\"\n",
       " viewBox=\"0.00 0.00 503.50 790.00\" xmlns=\"http://www.w3.org/2000/svg\" xmlns:xlink=\"http://www.w3.org/1999/xlink\">\n",
       "<g id=\"graph0\" class=\"graph\" transform=\"scale(1 1) rotate(0) translate(4 786)\">\n",
       "<title>Tree</title>\n",
       "<polygon fill=\"white\" stroke=\"transparent\" points=\"-4,4 -4,-786 499.5,-786 499.5,4 -4,4\"/>\n",
       "<!-- 0 -->\n",
       "<g id=\"node1\" class=\"node\">\n",
       "<title>0</title>\n",
       "<path fill=\"#fefaf8\" stroke=\"black\" d=\"M326.5,-782C326.5,-782 162.5,-782 162.5,-782 156.5,-782 150.5,-776 150.5,-770 150.5,-770 150.5,-711 150.5,-711 150.5,-705 156.5,-699 162.5,-699 162.5,-699 326.5,-699 326.5,-699 332.5,-699 338.5,-705 338.5,-711 338.5,-711 338.5,-770 338.5,-770 338.5,-776 332.5,-782 326.5,-782\"/>\n",
       "<text text-anchor=\"start\" x=\"158.5\" y=\"-766.8\" font-family=\"Helvetica,sans-Serif\" font-size=\"14.00\">petal length (cm) ≤ 2.45</text>\n",
       "<text text-anchor=\"start\" x=\"200.5\" y=\"-751.8\" font-family=\"Helvetica,sans-Serif\" font-size=\"14.00\">gini = 0.666</text>\n",
       "<text text-anchor=\"start\" x=\"191.5\" y=\"-736.8\" font-family=\"Helvetica,sans-Serif\" font-size=\"14.00\">samples = 120</text>\n",
       "<text text-anchor=\"start\" x=\"173.5\" y=\"-721.8\" font-family=\"Helvetica,sans-Serif\" font-size=\"14.00\">value = [42, 39, 39]</text>\n",
       "<text text-anchor=\"start\" x=\"194\" y=\"-706.8\" font-family=\"Helvetica,sans-Serif\" font-size=\"14.00\">class = setosa</text>\n",
       "</g>\n",
       "<!-- 1 -->\n",
       "<g id=\"node2\" class=\"node\">\n",
       "<title>1</title>\n",
       "<path fill=\"#e58139\" stroke=\"black\" d=\"M213.5,-655.5C213.5,-655.5 97.5,-655.5 97.5,-655.5 91.5,-655.5 85.5,-649.5 85.5,-643.5 85.5,-643.5 85.5,-599.5 85.5,-599.5 85.5,-593.5 91.5,-587.5 97.5,-587.5 97.5,-587.5 213.5,-587.5 213.5,-587.5 219.5,-587.5 225.5,-593.5 225.5,-599.5 225.5,-599.5 225.5,-643.5 225.5,-643.5 225.5,-649.5 219.5,-655.5 213.5,-655.5\"/>\n",
       "<text text-anchor=\"start\" x=\"120.5\" y=\"-640.3\" font-family=\"Helvetica,sans-Serif\" font-size=\"14.00\">gini = 0.0</text>\n",
       "<text text-anchor=\"start\" x=\"107\" y=\"-625.3\" font-family=\"Helvetica,sans-Serif\" font-size=\"14.00\">samples = 42</text>\n",
       "<text text-anchor=\"start\" x=\"93.5\" y=\"-610.3\" font-family=\"Helvetica,sans-Serif\" font-size=\"14.00\">value = [42, 0, 0]</text>\n",
       "<text text-anchor=\"start\" x=\"105\" y=\"-595.3\" font-family=\"Helvetica,sans-Serif\" font-size=\"14.00\">class = setosa</text>\n",
       "</g>\n",
       "<!-- 0&#45;&gt;1 -->\n",
       "<g id=\"edge1\" class=\"edge\">\n",
       "<title>0&#45;&gt;1</title>\n",
       "<path fill=\"none\" stroke=\"black\" d=\"M213.62,-698.91C204.98,-687.54 195.57,-675.18 186.9,-663.77\"/>\n",
       "<polygon fill=\"black\" stroke=\"black\" points=\"189.57,-661.51 180.73,-655.67 184,-665.74 189.57,-661.51\"/>\n",
       "<text text-anchor=\"middle\" x=\"177.36\" y=\"-676.74\" font-family=\"Helvetica,sans-Serif\" font-size=\"14.00\">True</text>\n",
       "</g>\n",
       "<!-- 2 -->\n",
       "<g id=\"node3\" class=\"node\">\n",
       "<title>2</title>\n",
       "<path fill=\"#ffffff\" stroke=\"black\" d=\"M413.5,-663C413.5,-663 255.5,-663 255.5,-663 249.5,-663 243.5,-657 243.5,-651 243.5,-651 243.5,-592 243.5,-592 243.5,-586 249.5,-580 255.5,-580 255.5,-580 413.5,-580 413.5,-580 419.5,-580 425.5,-586 425.5,-592 425.5,-592 425.5,-651 425.5,-651 425.5,-657 419.5,-663 413.5,-663\"/>\n",
       "<text text-anchor=\"start\" x=\"251.5\" y=\"-647.8\" font-family=\"Helvetica,sans-Serif\" font-size=\"14.00\">petal width (cm) ≤ 1.75</text>\n",
       "<text text-anchor=\"start\" x=\"299.5\" y=\"-632.8\" font-family=\"Helvetica,sans-Serif\" font-size=\"14.00\">gini = 0.5</text>\n",
       "<text text-anchor=\"start\" x=\"286\" y=\"-617.8\" font-family=\"Helvetica,sans-Serif\" font-size=\"14.00\">samples = 78</text>\n",
       "<text text-anchor=\"start\" x=\"268\" y=\"-602.8\" font-family=\"Helvetica,sans-Serif\" font-size=\"14.00\">value = [0, 39, 39]</text>\n",
       "<text text-anchor=\"start\" x=\"272.5\" y=\"-587.8\" font-family=\"Helvetica,sans-Serif\" font-size=\"14.00\">class = versicolor</text>\n",
       "</g>\n",
       "<!-- 0&#45;&gt;2 -->\n",
       "<g id=\"edge2\" class=\"edge\">\n",
       "<title>0&#45;&gt;2</title>\n",
       "<path fill=\"none\" stroke=\"black\" d=\"M275.73,-698.91C282.64,-689.92 290.03,-680.32 297.15,-671.05\"/>\n",
       "<polygon fill=\"black\" stroke=\"black\" points=\"300.01,-673.08 303.33,-663.02 294.46,-668.81 300.01,-673.08\"/>\n",
       "<text text-anchor=\"middle\" x=\"306.56\" y=\"-684.11\" font-family=\"Helvetica,sans-Serif\" font-size=\"14.00\">False</text>\n",
       "</g>\n",
       "<!-- 3 -->\n",
       "<g id=\"node4\" class=\"node\">\n",
       "<title>3</title>\n",
       "<path fill=\"#48e78b\" stroke=\"black\" d=\"M325.5,-544C325.5,-544 161.5,-544 161.5,-544 155.5,-544 149.5,-538 149.5,-532 149.5,-532 149.5,-473 149.5,-473 149.5,-467 155.5,-461 161.5,-461 161.5,-461 325.5,-461 325.5,-461 331.5,-461 337.5,-467 337.5,-473 337.5,-473 337.5,-532 337.5,-532 337.5,-538 331.5,-544 325.5,-544\"/>\n",
       "<text text-anchor=\"start\" x=\"157.5\" y=\"-528.8\" font-family=\"Helvetica,sans-Serif\" font-size=\"14.00\">petal length (cm) ≤ 5.45</text>\n",
       "<text text-anchor=\"start\" x=\"199.5\" y=\"-513.8\" font-family=\"Helvetica,sans-Serif\" font-size=\"14.00\">gini = 0.133</text>\n",
       "<text text-anchor=\"start\" x=\"195\" y=\"-498.8\" font-family=\"Helvetica,sans-Serif\" font-size=\"14.00\">samples = 42</text>\n",
       "<text text-anchor=\"start\" x=\"181.5\" y=\"-483.8\" font-family=\"Helvetica,sans-Serif\" font-size=\"14.00\">value = [0, 39, 3]</text>\n",
       "<text text-anchor=\"start\" x=\"181.5\" y=\"-468.8\" font-family=\"Helvetica,sans-Serif\" font-size=\"14.00\">class = versicolor</text>\n",
       "</g>\n",
       "<!-- 2&#45;&gt;3 -->\n",
       "<g id=\"edge3\" class=\"edge\">\n",
       "<title>2&#45;&gt;3</title>\n",
       "<path fill=\"none\" stroke=\"black\" d=\"M302.93,-579.91C295.94,-570.92 288.47,-561.32 281.26,-552.05\"/>\n",
       "<polygon fill=\"black\" stroke=\"black\" points=\"283.92,-549.77 275.02,-544.02 278.39,-554.06 283.92,-549.77\"/>\n",
       "</g>\n",
       "<!-- 12 -->\n",
       "<g id=\"node13\" class=\"node\">\n",
       "<title>12</title>\n",
       "<path fill=\"#8139e5\" stroke=\"black\" d=\"M483.5,-536.5C483.5,-536.5 367.5,-536.5 367.5,-536.5 361.5,-536.5 355.5,-530.5 355.5,-524.5 355.5,-524.5 355.5,-480.5 355.5,-480.5 355.5,-474.5 361.5,-468.5 367.5,-468.5 367.5,-468.5 483.5,-468.5 483.5,-468.5 489.5,-468.5 495.5,-474.5 495.5,-480.5 495.5,-480.5 495.5,-524.5 495.5,-524.5 495.5,-530.5 489.5,-536.5 483.5,-536.5\"/>\n",
       "<text text-anchor=\"start\" x=\"390.5\" y=\"-521.3\" font-family=\"Helvetica,sans-Serif\" font-size=\"14.00\">gini = 0.0</text>\n",
       "<text text-anchor=\"start\" x=\"377\" y=\"-506.3\" font-family=\"Helvetica,sans-Serif\" font-size=\"14.00\">samples = 36</text>\n",
       "<text text-anchor=\"start\" x=\"363.5\" y=\"-491.3\" font-family=\"Helvetica,sans-Serif\" font-size=\"14.00\">value = [0, 0, 36]</text>\n",
       "<text text-anchor=\"start\" x=\"368\" y=\"-476.3\" font-family=\"Helvetica,sans-Serif\" font-size=\"14.00\">class = virginica</text>\n",
       "</g>\n",
       "<!-- 2&#45;&gt;12 -->\n",
       "<g id=\"edge12\" class=\"edge\">\n",
       "<title>2&#45;&gt;12</title>\n",
       "<path fill=\"none\" stroke=\"black\" d=\"M366.07,-579.91C374.91,-568.54 384.53,-556.18 393.4,-544.77\"/>\n",
       "<polygon fill=\"black\" stroke=\"black\" points=\"396.33,-546.71 399.7,-536.67 390.8,-542.41 396.33,-546.71\"/>\n",
       "</g>\n",
       "<!-- 4 -->\n",
       "<g id=\"node5\" class=\"node\">\n",
       "<title>4</title>\n",
       "<path fill=\"#43e687\" stroke=\"black\" d=\"M238,-425C238,-425 71,-425 71,-425 65,-425 59,-419 59,-413 59,-413 59,-354 59,-354 59,-348 65,-342 71,-342 71,-342 238,-342 238,-342 244,-342 250,-348 250,-354 250,-354 250,-413 250,-413 250,-419 244,-425 238,-425\"/>\n",
       "<text text-anchor=\"start\" x=\"67\" y=\"-409.8\" font-family=\"Helvetica,sans-Serif\" font-size=\"14.00\">sepal length (cm) ≤ 4.95</text>\n",
       "<text text-anchor=\"start\" x=\"110.5\" y=\"-394.8\" font-family=\"Helvetica,sans-Serif\" font-size=\"14.00\">gini = 0.093</text>\n",
       "<text text-anchor=\"start\" x=\"106\" y=\"-379.8\" font-family=\"Helvetica,sans-Serif\" font-size=\"14.00\">samples = 41</text>\n",
       "<text text-anchor=\"start\" x=\"92.5\" y=\"-364.8\" font-family=\"Helvetica,sans-Serif\" font-size=\"14.00\">value = [0, 39, 2]</text>\n",
       "<text text-anchor=\"start\" x=\"92.5\" y=\"-349.8\" font-family=\"Helvetica,sans-Serif\" font-size=\"14.00\">class = versicolor</text>\n",
       "</g>\n",
       "<!-- 3&#45;&gt;4 -->\n",
       "<g id=\"edge4\" class=\"edge\">\n",
       "<title>3&#45;&gt;4</title>\n",
       "<path fill=\"none\" stroke=\"black\" d=\"M212.62,-460.91C205.79,-451.92 198.48,-442.32 191.43,-433.05\"/>\n",
       "<polygon fill=\"black\" stroke=\"black\" points=\"194.16,-430.86 185.32,-425.02 188.59,-435.1 194.16,-430.86\"/>\n",
       "</g>\n",
       "<!-- 11 -->\n",
       "<g id=\"node12\" class=\"node\">\n",
       "<title>11</title>\n",
       "<path fill=\"#8139e5\" stroke=\"black\" d=\"M387,-417.5C387,-417.5 280,-417.5 280,-417.5 274,-417.5 268,-411.5 268,-405.5 268,-405.5 268,-361.5 268,-361.5 268,-355.5 274,-349.5 280,-349.5 280,-349.5 387,-349.5 387,-349.5 393,-349.5 399,-355.5 399,-361.5 399,-361.5 399,-405.5 399,-405.5 399,-411.5 393,-417.5 387,-417.5\"/>\n",
       "<text text-anchor=\"start\" x=\"298.5\" y=\"-402.3\" font-family=\"Helvetica,sans-Serif\" font-size=\"14.00\">gini = 0.0</text>\n",
       "<text text-anchor=\"start\" x=\"289.5\" y=\"-387.3\" font-family=\"Helvetica,sans-Serif\" font-size=\"14.00\">samples = 1</text>\n",
       "<text text-anchor=\"start\" x=\"276\" y=\"-372.3\" font-family=\"Helvetica,sans-Serif\" font-size=\"14.00\">value = [0, 0, 1]</text>\n",
       "<text text-anchor=\"start\" x=\"276\" y=\"-357.3\" font-family=\"Helvetica,sans-Serif\" font-size=\"14.00\">class = virginica</text>\n",
       "</g>\n",
       "<!-- 3&#45;&gt;11 -->\n",
       "<g id=\"edge11\" class=\"edge\">\n",
       "<title>3&#45;&gt;11</title>\n",
       "<path fill=\"none\" stroke=\"black\" d=\"M274.73,-460.91C283.47,-449.54 292.98,-437.18 301.75,-425.77\"/>\n",
       "<polygon fill=\"black\" stroke=\"black\" points=\"304.66,-427.73 307.99,-417.67 299.12,-423.46 304.66,-427.73\"/>\n",
       "</g>\n",
       "<!-- 5 -->\n",
       "<g id=\"node6\" class=\"node\">\n",
       "<title>5</title>\n",
       "<path fill=\"#8139e5\" stroke=\"black\" d=\"M119,-298.5C119,-298.5 12,-298.5 12,-298.5 6,-298.5 0,-292.5 0,-286.5 0,-286.5 0,-242.5 0,-242.5 0,-236.5 6,-230.5 12,-230.5 12,-230.5 119,-230.5 119,-230.5 125,-230.5 131,-236.5 131,-242.5 131,-242.5 131,-286.5 131,-286.5 131,-292.5 125,-298.5 119,-298.5\"/>\n",
       "<text text-anchor=\"start\" x=\"30.5\" y=\"-283.3\" font-family=\"Helvetica,sans-Serif\" font-size=\"14.00\">gini = 0.0</text>\n",
       "<text text-anchor=\"start\" x=\"21.5\" y=\"-268.3\" font-family=\"Helvetica,sans-Serif\" font-size=\"14.00\">samples = 1</text>\n",
       "<text text-anchor=\"start\" x=\"8\" y=\"-253.3\" font-family=\"Helvetica,sans-Serif\" font-size=\"14.00\">value = [0, 0, 1]</text>\n",
       "<text text-anchor=\"start\" x=\"8\" y=\"-238.3\" font-family=\"Helvetica,sans-Serif\" font-size=\"14.00\">class = virginica</text>\n",
       "</g>\n",
       "<!-- 4&#45;&gt;5 -->\n",
       "<g id=\"edge5\" class=\"edge\">\n",
       "<title>4&#45;&gt;5</title>\n",
       "<path fill=\"none\" stroke=\"black\" d=\"M123.62,-341.91C114.98,-330.54 105.57,-318.18 96.9,-306.77\"/>\n",
       "<polygon fill=\"black\" stroke=\"black\" points=\"99.57,-304.51 90.73,-298.67 94,-308.74 99.57,-304.51\"/>\n",
       "</g>\n",
       "<!-- 6 -->\n",
       "<g id=\"node7\" class=\"node\">\n",
       "<title>6</title>\n",
       "<path fill=\"#3ee684\" stroke=\"black\" d=\"M325.5,-306C325.5,-306 161.5,-306 161.5,-306 155.5,-306 149.5,-300 149.5,-294 149.5,-294 149.5,-235 149.5,-235 149.5,-229 155.5,-223 161.5,-223 161.5,-223 325.5,-223 325.5,-223 331.5,-223 337.5,-229 337.5,-235 337.5,-235 337.5,-294 337.5,-294 337.5,-300 331.5,-306 325.5,-306\"/>\n",
       "<text text-anchor=\"start\" x=\"157.5\" y=\"-290.8\" font-family=\"Helvetica,sans-Serif\" font-size=\"14.00\">petal length (cm) ≤ 4.95</text>\n",
       "<text text-anchor=\"start\" x=\"199.5\" y=\"-275.8\" font-family=\"Helvetica,sans-Serif\" font-size=\"14.00\">gini = 0.049</text>\n",
       "<text text-anchor=\"start\" x=\"195\" y=\"-260.8\" font-family=\"Helvetica,sans-Serif\" font-size=\"14.00\">samples = 40</text>\n",
       "<text text-anchor=\"start\" x=\"181.5\" y=\"-245.8\" font-family=\"Helvetica,sans-Serif\" font-size=\"14.00\">value = [0, 39, 1]</text>\n",
       "<text text-anchor=\"start\" x=\"181.5\" y=\"-230.8\" font-family=\"Helvetica,sans-Serif\" font-size=\"14.00\">class = versicolor</text>\n",
       "</g>\n",
       "<!-- 4&#45;&gt;6 -->\n",
       "<g id=\"edge6\" class=\"edge\">\n",
       "<title>4&#45;&gt;6</title>\n",
       "<path fill=\"none\" stroke=\"black\" d=\"M185.38,-341.91C192.21,-332.92 199.52,-323.32 206.57,-314.05\"/>\n",
       "<polygon fill=\"black\" stroke=\"black\" points=\"209.41,-316.1 212.68,-306.02 203.84,-311.86 209.41,-316.1\"/>\n",
       "</g>\n",
       "<!-- 7 -->\n",
       "<g id=\"node8\" class=\"node\">\n",
       "<title>7</title>\n",
       "<path fill=\"#39e581\" stroke=\"black\" d=\"M211.5,-179.5C211.5,-179.5 95.5,-179.5 95.5,-179.5 89.5,-179.5 83.5,-173.5 83.5,-167.5 83.5,-167.5 83.5,-123.5 83.5,-123.5 83.5,-117.5 89.5,-111.5 95.5,-111.5 95.5,-111.5 211.5,-111.5 211.5,-111.5 217.5,-111.5 223.5,-117.5 223.5,-123.5 223.5,-123.5 223.5,-167.5 223.5,-167.5 223.5,-173.5 217.5,-179.5 211.5,-179.5\"/>\n",
       "<text text-anchor=\"start\" x=\"118.5\" y=\"-164.3\" font-family=\"Helvetica,sans-Serif\" font-size=\"14.00\">gini = 0.0</text>\n",
       "<text text-anchor=\"start\" x=\"105\" y=\"-149.3\" font-family=\"Helvetica,sans-Serif\" font-size=\"14.00\">samples = 37</text>\n",
       "<text text-anchor=\"start\" x=\"91.5\" y=\"-134.3\" font-family=\"Helvetica,sans-Serif\" font-size=\"14.00\">value = [0, 37, 0]</text>\n",
       "<text text-anchor=\"start\" x=\"91.5\" y=\"-119.3\" font-family=\"Helvetica,sans-Serif\" font-size=\"14.00\">class = versicolor</text>\n",
       "</g>\n",
       "<!-- 6&#45;&gt;7 -->\n",
       "<g id=\"edge7\" class=\"edge\">\n",
       "<title>6&#45;&gt;7</title>\n",
       "<path fill=\"none\" stroke=\"black\" d=\"M212.27,-222.91C203.53,-211.54 194.02,-199.18 185.25,-187.77\"/>\n",
       "<polygon fill=\"black\" stroke=\"black\" points=\"187.88,-185.46 179.01,-179.67 182.34,-189.73 187.88,-185.46\"/>\n",
       "</g>\n",
       "<!-- 8 -->\n",
       "<g id=\"node9\" class=\"node\">\n",
       "<title>8</title>\n",
       "<path fill=\"#9cf2c0\" stroke=\"black\" d=\"M411.5,-187C411.5,-187 253.5,-187 253.5,-187 247.5,-187 241.5,-181 241.5,-175 241.5,-175 241.5,-116 241.5,-116 241.5,-110 247.5,-104 253.5,-104 253.5,-104 411.5,-104 411.5,-104 417.5,-104 423.5,-110 423.5,-116 423.5,-116 423.5,-175 423.5,-175 423.5,-181 417.5,-187 411.5,-187\"/>\n",
       "<text text-anchor=\"start\" x=\"249.5\" y=\"-171.8\" font-family=\"Helvetica,sans-Serif\" font-size=\"14.00\">petal width (cm) ≤ 1.55</text>\n",
       "<text text-anchor=\"start\" x=\"288.5\" y=\"-156.8\" font-family=\"Helvetica,sans-Serif\" font-size=\"14.00\">gini = 0.444</text>\n",
       "<text text-anchor=\"start\" x=\"288.5\" y=\"-141.8\" font-family=\"Helvetica,sans-Serif\" font-size=\"14.00\">samples = 3</text>\n",
       "<text text-anchor=\"start\" x=\"275\" y=\"-126.8\" font-family=\"Helvetica,sans-Serif\" font-size=\"14.00\">value = [0, 2, 1]</text>\n",
       "<text text-anchor=\"start\" x=\"270.5\" y=\"-111.8\" font-family=\"Helvetica,sans-Serif\" font-size=\"14.00\">class = versicolor</text>\n",
       "</g>\n",
       "<!-- 6&#45;&gt;8 -->\n",
       "<g id=\"edge8\" class=\"edge\">\n",
       "<title>6&#45;&gt;8</title>\n",
       "<path fill=\"none\" stroke=\"black\" d=\"M274.38,-222.91C281.21,-213.92 288.52,-204.32 295.57,-195.05\"/>\n",
       "<polygon fill=\"black\" stroke=\"black\" points=\"298.41,-197.1 301.68,-187.02 292.84,-192.86 298.41,-197.1\"/>\n",
       "</g>\n",
       "<!-- 9 -->\n",
       "<g id=\"node10\" class=\"node\">\n",
       "<title>9</title>\n",
       "<path fill=\"#8139e5\" stroke=\"black\" d=\"M309,-68C309,-68 202,-68 202,-68 196,-68 190,-62 190,-56 190,-56 190,-12 190,-12 190,-6 196,0 202,0 202,0 309,0 309,0 315,0 321,-6 321,-12 321,-12 321,-56 321,-56 321,-62 315,-68 309,-68\"/>\n",
       "<text text-anchor=\"start\" x=\"220.5\" y=\"-52.8\" font-family=\"Helvetica,sans-Serif\" font-size=\"14.00\">gini = 0.0</text>\n",
       "<text text-anchor=\"start\" x=\"211.5\" y=\"-37.8\" font-family=\"Helvetica,sans-Serif\" font-size=\"14.00\">samples = 1</text>\n",
       "<text text-anchor=\"start\" x=\"198\" y=\"-22.8\" font-family=\"Helvetica,sans-Serif\" font-size=\"14.00\">value = [0, 0, 1]</text>\n",
       "<text text-anchor=\"start\" x=\"198\" y=\"-7.8\" font-family=\"Helvetica,sans-Serif\" font-size=\"14.00\">class = virginica</text>\n",
       "</g>\n",
       "<!-- 8&#45;&gt;9 -->\n",
       "<g id=\"edge9\" class=\"edge\">\n",
       "<title>8&#45;&gt;9</title>\n",
       "<path fill=\"none\" stroke=\"black\" d=\"M303.83,-103.73C297.61,-94.88 291.02,-85.51 284.77,-76.63\"/>\n",
       "<polygon fill=\"black\" stroke=\"black\" points=\"287.53,-74.47 278.92,-68.3 281.81,-78.49 287.53,-74.47\"/>\n",
       "</g>\n",
       "<!-- 10 -->\n",
       "<g id=\"node11\" class=\"node\">\n",
       "<title>10</title>\n",
       "<path fill=\"#39e581\" stroke=\"black\" d=\"M467.5,-68C467.5,-68 351.5,-68 351.5,-68 345.5,-68 339.5,-62 339.5,-56 339.5,-56 339.5,-12 339.5,-12 339.5,-6 345.5,0 351.5,0 351.5,0 467.5,0 467.5,0 473.5,0 479.5,-6 479.5,-12 479.5,-12 479.5,-56 479.5,-56 479.5,-62 473.5,-68 467.5,-68\"/>\n",
       "<text text-anchor=\"start\" x=\"374.5\" y=\"-52.8\" font-family=\"Helvetica,sans-Serif\" font-size=\"14.00\">gini = 0.0</text>\n",
       "<text text-anchor=\"start\" x=\"365.5\" y=\"-37.8\" font-family=\"Helvetica,sans-Serif\" font-size=\"14.00\">samples = 2</text>\n",
       "<text text-anchor=\"start\" x=\"352\" y=\"-22.8\" font-family=\"Helvetica,sans-Serif\" font-size=\"14.00\">value = [0, 2, 0]</text>\n",
       "<text text-anchor=\"start\" x=\"347.5\" y=\"-7.8\" font-family=\"Helvetica,sans-Serif\" font-size=\"14.00\">class = versicolor</text>\n",
       "</g>\n",
       "<!-- 8&#45;&gt;10 -->\n",
       "<g id=\"edge10\" class=\"edge\">\n",
       "<title>8&#45;&gt;10</title>\n",
       "<path fill=\"none\" stroke=\"black\" d=\"M361.17,-103.73C367.39,-94.88 373.98,-85.51 380.23,-76.63\"/>\n",
       "<polygon fill=\"black\" stroke=\"black\" points=\"383.19,-78.49 386.08,-68.3 377.47,-74.47 383.19,-78.49\"/>\n",
       "</g>\n",
       "</g>\n",
       "</svg>\n"
      ],
      "text/plain": [
       "<graphviz.files.Source at 0x7f575b579690>"
      ]
     },
     "execution_count": 8,
     "metadata": {},
     "output_type": "execute_result"
    }
   ],
   "source": [
    "import graphviz\n",
    "dot_data = tree.export_graphviz(CART_tree, out_file=None, feature_names=iris.feature_names,  class_names=iris.target_names,  \n",
    "                                filled=True, rounded=True,  special_characters=True)  \n",
    "\n",
    "graph = graphviz.Source(dot_data)  \n",
    "graph "
   ]
  },
  {
   "cell_type": "markdown",
   "id": "1d733488",
   "metadata": {
    "papermill": {
     "duration": 0.004767,
     "end_time": "2022-12-29T11:53:57.855483",
     "exception": false,
     "start_time": "2022-12-29T11:53:57.850716",
     "status": "completed"
    },
    "tags": []
   },
   "source": [
    "# Bagging Classifier with the base learner as Decision Tree Classifier\n",
    "Default classifier is Decision Tree Classifier"
   ]
  },
  {
   "cell_type": "code",
   "execution_count": 9,
   "id": "2042bcf2",
   "metadata": {
    "execution": {
     "iopub.execute_input": "2022-12-29T11:53:57.867396Z",
     "iopub.status.busy": "2022-12-29T11:53:57.867017Z",
     "iopub.status.idle": "2022-12-29T11:53:57.962339Z",
     "shell.execute_reply": "2022-12-29T11:53:57.961105Z"
    },
    "papermill": {
     "duration": 0.104009,
     "end_time": "2022-12-29T11:53:57.964642",
     "exception": false,
     "start_time": "2022-12-29T11:53:57.860633",
     "status": "completed"
    },
    "tags": []
   },
   "outputs": [
    {
     "name": "stdout",
     "output_type": "stream",
     "text": [
      "Out of bag score: 0.9533333333333334\n"
     ]
    }
   ],
   "source": [
    "from sklearn.ensemble import BaggingClassifier\n",
    "model = BaggingClassifier(n_estimators = 20, oob_score = True)\n",
    "model.fit(X, Y)\n",
    "fx = model.predict(X)\n",
    "print(\"Out of bag score:\", model.oob_score_)"
   ]
  },
  {
   "cell_type": "markdown",
   "id": "2da7cbaa",
   "metadata": {
    "papermill": {
     "duration": 0.004945,
     "end_time": "2022-12-29T11:53:57.975219",
     "exception": false,
     "start_time": "2022-12-29T11:53:57.970274",
     "status": "completed"
    },
    "tags": []
   },
   "source": [
    "# Bagging Classifier with the base learner as KNN"
   ]
  },
  {
   "cell_type": "code",
   "execution_count": 10,
   "id": "157d0d87",
   "metadata": {
    "execution": {
     "iopub.execute_input": "2022-12-29T11:53:57.987633Z",
     "iopub.status.busy": "2022-12-29T11:53:57.987168Z",
     "iopub.status.idle": "2022-12-29T11:53:58.033873Z",
     "shell.execute_reply": "2022-12-29T11:53:58.032068Z"
    },
    "papermill": {
     "duration": 0.056111,
     "end_time": "2022-12-29T11:53:58.036507",
     "exception": false,
     "start_time": "2022-12-29T11:53:57.980396",
     "status": "completed"
    },
    "tags": []
   },
   "outputs": [
    {
     "name": "stdout",
     "output_type": "stream",
     "text": [
      "Out of bag score: 0.96\n"
     ]
    }
   ],
   "source": [
    "model = BaggingClassifier(base_estimator= KNeighborsClassifier(), n_estimators = 20,\n",
    "                         oob_score = True)\n",
    "model.fit(X,Y)\n",
    "print(\"Out of bag score:\", model.oob_score_)"
   ]
  },
  {
   "cell_type": "markdown",
   "id": "fe26c181",
   "metadata": {
    "papermill": {
     "duration": 0.005488,
     "end_time": "2022-12-29T11:53:58.047950",
     "exception": false,
     "start_time": "2022-12-29T11:53:58.042462",
     "status": "completed"
    },
    "tags": []
   },
   "source": [
    "# Random Forest Classifier "
   ]
  },
  {
   "cell_type": "code",
   "execution_count": 11,
   "id": "8ab8c96f",
   "metadata": {
    "execution": {
     "iopub.execute_input": "2022-12-29T11:53:58.061565Z",
     "iopub.status.busy": "2022-12-29T11:53:58.061068Z",
     "iopub.status.idle": "2022-12-29T11:53:58.210835Z",
     "shell.execute_reply": "2022-12-29T11:53:58.209493Z"
    },
    "papermill": {
     "duration": 0.15882,
     "end_time": "2022-12-29T11:53:58.212630",
     "exception": false,
     "start_time": "2022-12-29T11:53:58.053810",
     "status": "completed"
    },
    "tags": []
   },
   "outputs": [
    {
     "name": "stdout",
     "output_type": "stream",
     "text": [
      "Out of bag score: 0.94\n"
     ]
    }
   ],
   "source": [
    "from sklearn.ensemble import RandomForestClassifier\n",
    "model = RandomForestClassifier(n_estimators=100, max_depth = 2, criterion = \"gini\",\n",
    "                              oob_score = True, )\n",
    "model.fit(X, Y)\n",
    "\n",
    "print(\"Out of bag score:\", model.oob_score_)"
   ]
  }
 ],
 "metadata": {
  "kernelspec": {
   "display_name": "Python 3",
   "language": "python",
   "name": "python3"
  },
  "language_info": {
   "codemirror_mode": {
    "name": "ipython",
    "version": 3
   },
   "file_extension": ".py",
   "mimetype": "text/x-python",
   "name": "python",
   "nbconvert_exporter": "python",
   "pygments_lexer": "ipython3",
   "version": "3.7.12"
  },
  "papermill": {
   "default_parameters": {},
   "duration": 11.319118,
   "end_time": "2022-12-29T11:53:58.937350",
   "environment_variables": {},
   "exception": null,
   "input_path": "__notebook__.ipynb",
   "output_path": "__notebook__.ipynb",
   "parameters": {},
   "start_time": "2022-12-29T11:53:47.618232",
   "version": "2.3.4"
  }
 },
 "nbformat": 4,
 "nbformat_minor": 5
}
